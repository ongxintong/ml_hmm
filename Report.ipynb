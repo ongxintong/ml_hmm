{
 "cells": [
  {
   "cell_type": "code",
   "execution_count": 1,
   "metadata": {},
   "outputs": [
    {
     "name": "stdout",
     "output_type": "stream",
     "text": [
      "Obtained list of possible tags from the trng set - 21 tags\n",
      "Obtained list of vocab from the trng set - 18212 words\n",
      "               B-NP      I-NP      B-VP    B-ADVP    B-ADJP    I-ADJP  \\\n",
      "##START##  0.648049  0.000000  0.018661  0.054287  0.003262  0.000000   \n",
      "B-NP       0.028898  0.684706  0.130303  0.009809  0.003213  0.000000   \n",
      "I-NP       0.047645  0.406679  0.134912  0.015332  0.004103  0.000000   \n",
      "B-VP       0.345217  0.000000  0.007229  0.031214  0.039209  0.000000   \n",
      "B-ADVP     0.210379  0.000000  0.215989  0.016269  0.016550  0.000000   \n",
      "B-ADJP     0.051970  0.000000  0.110794  0.015991  0.001142  0.279840   \n",
      "I-ADJP     0.088850  0.000000  0.069686  0.013937  0.012195  0.146341   \n",
      "B-PP       0.928047  0.000000  0.026595  0.003318  0.002611  0.000000   \n",
      "O          0.347185  0.000000  0.115030  0.029197  0.008755  0.000000   \n",
      "B-SBAR     0.872565  0.000000  0.038441  0.008952  0.003160  0.000000   \n",
      "I-VP       0.355350  0.000000  0.008269  0.037602  0.029038  0.000000   \n",
      "I-ADVP     0.187328  0.000000  0.057851  0.030303  0.016529  0.000000   \n",
      "B-PRT      0.506410  0.000000  0.042735  0.029915  0.002137  0.000000   \n",
      "I-PP       0.784753  0.000000  0.031390  0.004484  0.004484  0.000000   \n",
      "B-CONJP    0.000000  0.000000  0.000000  0.000000  0.000000  0.000000   \n",
      "I-CONJP    0.437500  0.000000  0.156250  0.000000  0.000000  0.000000   \n",
      "B-INTJ     0.038462  0.000000  0.076923  0.038462  0.000000  0.000000   \n",
      "I-INTJ     0.000000  0.000000  0.000000  0.000000  0.000000  0.000000   \n",
      "I-SBAR     0.958333  0.000000  0.020833  0.000000  0.000000  0.000000   \n",
      "B-UCP      0.000000  0.000000  0.000000  0.000000  0.000000  0.000000   \n",
      "I-UCP      0.250000  0.000000  0.000000  0.000000  0.000000  0.000000   \n",
      "B-LST      0.000000  0.000000  0.000000  0.000000  0.000000  0.000000   \n",
      "\n",
      "               B-PP         O    B-SBAR      I-VP  ...      I-PP   B-CONJP  \\\n",
      "##START##  0.108704  0.141850  0.022576  0.000000  ...  0.000000  0.000261   \n",
      "B-NP       0.058007  0.080964  0.003403  0.000000  ...  0.000000  0.000085   \n",
      "I-NP       0.156509  0.227327  0.006375  0.000000  ...  0.000000  0.000201   \n",
      "B-VP       0.098735  0.067411  0.025574  0.373912  ...  0.000000  0.000164   \n",
      "B-ADVP     0.170547  0.265358  0.016269  0.000000  ...  0.000000  0.000561   \n",
      "B-ADJP     0.244432  0.256996  0.037693  0.000000  ...  0.000000  0.000000   \n",
      "I-ADJP     0.285714  0.320557  0.060976  0.000000  ...  0.000000  0.000000   \n",
      "B-PP       0.018491  0.008484  0.000979  0.000000  ...  0.011258  0.000000   \n",
      "O          0.050142  0.113522  0.016128  0.000000  ...  0.000000  0.001047   \n",
      "B-SBAR     0.014218  0.028436  0.008425  0.000000  ...  0.000000  0.000000   \n",
      "I-VP       0.148341  0.056698  0.013190  0.327887  ...  0.000000  0.000197   \n",
      "I-ADVP     0.154270  0.327824  0.079890  0.000000  ...  0.000000  0.000000   \n",
      "B-PRT      0.241453  0.158120  0.019231  0.000000  ...  0.000000  0.000000   \n",
      "I-PP       0.062780  0.040359  0.000000  0.000000  ...  0.071749  0.000000   \n",
      "B-CONJP    0.000000  0.061224  0.000000  0.000000  ...  0.000000  0.000000   \n",
      "I-CONJP    0.109375  0.015625  0.000000  0.000000  ...  0.000000  0.000000   \n",
      "B-INTJ     0.038462  0.615385  0.000000  0.000000  ...  0.000000  0.000000   \n",
      "I-INTJ     0.000000  0.714286  0.000000  0.000000  ...  0.000000  0.000000   \n",
      "I-SBAR     0.020833  0.000000  0.000000  0.000000  ...  0.000000  0.000000   \n",
      "B-UCP      0.000000  0.000000  0.000000  0.000000  ...  0.000000  0.000000   \n",
      "I-UCP      0.000000  0.000000  0.000000  0.000000  ...  0.000000  0.000000   \n",
      "B-LST      0.000000  1.000000  0.000000  0.000000  ...  0.000000  0.000000   \n",
      "\n",
      "            I-CONJP    B-INTJ    I-INTJ    I-SBAR     B-UCP  I-UCP     B-LST  \\\n",
      "##START##  0.000000  0.001305  0.000000  0.000000  0.000000   0.00  0.001044   \n",
      "B-NP       0.000000  0.000000  0.000000  0.000000  0.000021   0.00  0.000000   \n",
      "I-NP       0.000000  0.000000  0.000000  0.000000  0.000000   0.00  0.000000   \n",
      "B-VP       0.000000  0.000110  0.000000  0.000000  0.000000   0.00  0.000000   \n",
      "B-ADVP     0.000000  0.000000  0.000000  0.000000  0.000000   0.00  0.000000   \n",
      "B-ADJP     0.000000  0.000000  0.000000  0.000000  0.000000   0.00  0.000000   \n",
      "I-ADJP     0.000000  0.000000  0.000000  0.000000  0.000000   0.00  0.000000   \n",
      "B-PP       0.000000  0.000000  0.000000  0.000000  0.000000   0.00  0.000000   \n",
      "O          0.000000  0.000586  0.000000  0.000000  0.000000   0.00  0.000084   \n",
      "B-SBAR     0.000000  0.000000  0.000000  0.025276  0.000000   0.00  0.000527   \n",
      "I-VP       0.000000  0.000000  0.000000  0.000000  0.000000   0.00  0.000000   \n",
      "I-ADVP     0.000000  0.000000  0.000000  0.000000  0.000000   0.00  0.000000   \n",
      "B-PRT      0.000000  0.000000  0.000000  0.000000  0.000000   0.00  0.000000   \n",
      "I-PP       0.000000  0.000000  0.000000  0.000000  0.000000   0.00  0.000000   \n",
      "B-CONJP    0.938776  0.000000  0.000000  0.000000  0.000000   0.00  0.000000   \n",
      "I-CONJP    0.281250  0.000000  0.000000  0.000000  0.000000   0.00  0.000000   \n",
      "B-INTJ     0.000000  0.000000  0.192308  0.000000  0.000000   0.00  0.000000   \n",
      "I-INTJ     0.000000  0.000000  0.285714  0.000000  0.000000   0.00  0.000000   \n",
      "I-SBAR     0.000000  0.000000  0.000000  0.000000  0.000000   0.00  0.000000   \n",
      "B-UCP      0.000000  0.000000  0.000000  0.000000  0.000000   1.00  0.000000   \n",
      "I-UCP      0.000000  0.000000  0.000000  0.000000  0.000000   0.75  0.000000   \n",
      "B-LST      0.000000  0.000000  0.000000  0.000000  0.000000   0.00  0.000000   \n",
      "\n",
      "           ##STOP##  \n",
      "##START##  0.000000  \n",
      "B-NP       0.000233  \n",
      "I-NP       0.000788  \n",
      "B-VP       0.000055  \n",
      "B-ADVP     0.000842  \n",
      "B-ADJP     0.000571  \n",
      "I-ADJP     0.001742  \n",
      "B-PP       0.000218  \n",
      "O          0.318281  \n",
      "B-SBAR     0.000000  \n",
      "I-VP       0.000098  \n",
      "I-ADVP     0.000000  \n",
      "B-PRT      0.000000  \n",
      "I-PP       0.000000  \n",
      "B-CONJP    0.000000  \n",
      "I-CONJP    0.000000  \n",
      "B-INTJ     0.000000  \n",
      "I-INTJ     0.000000  \n",
      "I-SBAR     0.000000  \n",
      "B-UCP      0.000000  \n",
      "I-UCP      0.000000  \n",
      "B-LST      0.000000  \n",
      "\n",
      "[22 rows x 22 columns]\n",
      "[[2.88975795e-02 6.84705634e-01 1.30303351e-01 9.80868830e-03\n",
      "  3.21319099e-03 0.00000000e+00 5.80065532e-02 8.09639573e-02\n",
      "  3.40344572e-03 0.00000000e+00 0.00000000e+00 3.59370045e-04\n",
      "  0.00000000e+00 8.45576578e-05 0.00000000e+00 0.00000000e+00\n",
      "  0.00000000e+00 0.00000000e+00 2.11394144e-05 0.00000000e+00\n",
      "  0.00000000e+00]\n",
      " [4.76452162e-02 4.06678757e-01 1.34912348e-01 1.53321976e-02\n",
      "  4.10324046e-03 0.00000000e+00 1.56509315e-01 2.27326849e-01\n",
      "  6.37467714e-03 0.00000000e+00 0.00000000e+00 1.28226264e-04\n",
      "  0.00000000e+00 2.01498415e-04 0.00000000e+00 0.00000000e+00\n",
      "  0.00000000e+00 0.00000000e+00 0.00000000e+00 0.00000000e+00\n",
      "  0.00000000e+00]\n",
      " [3.45216582e-01 0.00000000e+00 7.22851980e-03 3.12140628e-02\n",
      "  3.92092437e-02 0.00000000e+00 9.87350090e-02 6.74114233e-02\n",
      "  2.55736269e-02 3.73911615e-01 0.00000000e+00 1.11713488e-02\n",
      "  0.00000000e+00 1.64284541e-04 0.00000000e+00 1.09523027e-04\n",
      "  0.00000000e+00 0.00000000e+00 0.00000000e+00 0.00000000e+00\n",
      "  0.00000000e+00]\n",
      " [2.10378682e-01 0.00000000e+00 2.15988780e-01 1.62692847e-02\n",
      "  1.65497896e-02 0.00000000e+00 1.70546985e-01 2.65357644e-01\n",
      "  1.62692847e-02 0.00000000e+00 8.69565217e-02 2.80504909e-04\n",
      "  0.00000000e+00 5.61009818e-04 0.00000000e+00 0.00000000e+00\n",
      "  0.00000000e+00 0.00000000e+00 0.00000000e+00 0.00000000e+00\n",
      "  0.00000000e+00]\n",
      " [5.19703027e-02 0.00000000e+00 1.10793832e-01 1.59908624e-02\n",
      "  1.14220445e-03 2.79840091e-01 2.44431753e-01 2.56996002e-01\n",
      "  3.76927470e-02 0.00000000e+00 0.00000000e+00 5.71102227e-04\n",
      "  0.00000000e+00 0.00000000e+00 0.00000000e+00 0.00000000e+00\n",
      "  0.00000000e+00 0.00000000e+00 0.00000000e+00 0.00000000e+00\n",
      "  0.00000000e+00]\n",
      " [8.88501742e-02 0.00000000e+00 6.96864111e-02 1.39372822e-02\n",
      "  1.21951220e-02 1.46341463e-01 2.85714286e-01 3.20557491e-01\n",
      "  6.09756098e-02 0.00000000e+00 0.00000000e+00 0.00000000e+00\n",
      "  0.00000000e+00 0.00000000e+00 0.00000000e+00 0.00000000e+00\n",
      "  0.00000000e+00 0.00000000e+00 0.00000000e+00 0.00000000e+00\n",
      "  0.00000000e+00]\n",
      " [9.28046990e-01 0.00000000e+00 2.65948768e-02 3.31756132e-03\n",
      "  2.61054006e-03 0.00000000e+00 1.84913254e-02 8.48425518e-03\n",
      "  9.78952521e-04 0.00000000e+00 0.00000000e+00 0.00000000e+00\n",
      "  1.12579540e-02 0.00000000e+00 0.00000000e+00 0.00000000e+00\n",
      "  0.00000000e+00 0.00000000e+00 0.00000000e+00 0.00000000e+00\n",
      "  0.00000000e+00]\n",
      " [3.47184987e-01 0.00000000e+00 1.15030161e-01 2.91973861e-02\n",
      "  8.75502681e-03 0.00000000e+00 5.01424263e-02 1.13522118e-01\n",
      "  1.61276810e-02 0.00000000e+00 0.00000000e+00 4.18900804e-05\n",
      "  0.00000000e+00 1.04725201e-03 0.00000000e+00 5.86461126e-04\n",
      "  0.00000000e+00 0.00000000e+00 0.00000000e+00 0.00000000e+00\n",
      "  8.37801609e-05]\n",
      " [8.72564508e-01 0.00000000e+00 3.84412849e-02 8.95208004e-03\n",
      "  3.15955766e-03 0.00000000e+00 1.42180095e-02 2.84360190e-02\n",
      "  8.42548710e-03 0.00000000e+00 0.00000000e+00 0.00000000e+00\n",
      "  0.00000000e+00 0.00000000e+00 0.00000000e+00 0.00000000e+00\n",
      "  0.00000000e+00 2.52764613e-02 0.00000000e+00 0.00000000e+00\n",
      "  5.26592944e-04]\n",
      " [3.55349936e-01 0.00000000e+00 8.26853037e-03 3.76021262e-02\n",
      "  2.90382912e-02 0.00000000e+00 1.48341372e-01 5.66984939e-02\n",
      "  1.31902746e-02 3.27886603e-01 0.00000000e+00 2.33290678e-02\n",
      "  0.00000000e+00 1.96869771e-04 0.00000000e+00 0.00000000e+00\n",
      "  0.00000000e+00 0.00000000e+00 0.00000000e+00 0.00000000e+00\n",
      "  0.00000000e+00]\n",
      " [1.87327824e-01 0.00000000e+00 5.78512397e-02 3.03030303e-02\n",
      "  1.65289256e-02 0.00000000e+00 1.54269972e-01 3.27823691e-01\n",
      "  7.98898072e-02 0.00000000e+00 1.46005510e-01 0.00000000e+00\n",
      "  0.00000000e+00 0.00000000e+00 0.00000000e+00 0.00000000e+00\n",
      "  0.00000000e+00 0.00000000e+00 0.00000000e+00 0.00000000e+00\n",
      "  0.00000000e+00]\n",
      " [5.06410256e-01 0.00000000e+00 4.27350427e-02 2.99145299e-02\n",
      "  2.13675214e-03 0.00000000e+00 2.41452991e-01 1.58119658e-01\n",
      "  1.92307692e-02 0.00000000e+00 0.00000000e+00 0.00000000e+00\n",
      "  0.00000000e+00 0.00000000e+00 0.00000000e+00 0.00000000e+00\n",
      "  0.00000000e+00 0.00000000e+00 0.00000000e+00 0.00000000e+00\n",
      "  0.00000000e+00]\n",
      " [7.84753363e-01 0.00000000e+00 3.13901345e-02 4.48430493e-03\n",
      "  4.48430493e-03 0.00000000e+00 6.27802691e-02 4.03587444e-02\n",
      "  0.00000000e+00 0.00000000e+00 0.00000000e+00 0.00000000e+00\n",
      "  7.17488789e-02 0.00000000e+00 0.00000000e+00 0.00000000e+00\n",
      "  0.00000000e+00 0.00000000e+00 0.00000000e+00 0.00000000e+00\n",
      "  0.00000000e+00]\n",
      " [0.00000000e+00 0.00000000e+00 0.00000000e+00 0.00000000e+00\n",
      "  0.00000000e+00 0.00000000e+00 0.00000000e+00 6.12244898e-02\n",
      "  0.00000000e+00 0.00000000e+00 0.00000000e+00 0.00000000e+00\n",
      "  0.00000000e+00 0.00000000e+00 9.38775510e-01 0.00000000e+00\n",
      "  0.00000000e+00 0.00000000e+00 0.00000000e+00 0.00000000e+00\n",
      "  0.00000000e+00]\n",
      " [4.37500000e-01 0.00000000e+00 1.56250000e-01 0.00000000e+00\n",
      "  0.00000000e+00 0.00000000e+00 1.09375000e-01 1.56250000e-02\n",
      "  0.00000000e+00 0.00000000e+00 0.00000000e+00 0.00000000e+00\n",
      "  0.00000000e+00 0.00000000e+00 2.81250000e-01 0.00000000e+00\n",
      "  0.00000000e+00 0.00000000e+00 0.00000000e+00 0.00000000e+00\n",
      "  0.00000000e+00]\n",
      " [3.84615385e-02 0.00000000e+00 7.69230769e-02 3.84615385e-02\n",
      "  0.00000000e+00 0.00000000e+00 3.84615385e-02 6.15384615e-01\n",
      "  0.00000000e+00 0.00000000e+00 0.00000000e+00 0.00000000e+00\n",
      "  0.00000000e+00 0.00000000e+00 0.00000000e+00 0.00000000e+00\n",
      "  1.92307692e-01 0.00000000e+00 0.00000000e+00 0.00000000e+00\n",
      "  0.00000000e+00]\n",
      " [0.00000000e+00 0.00000000e+00 0.00000000e+00 0.00000000e+00\n",
      "  0.00000000e+00 0.00000000e+00 0.00000000e+00 7.14285714e-01\n",
      "  0.00000000e+00 0.00000000e+00 0.00000000e+00 0.00000000e+00\n",
      "  0.00000000e+00 0.00000000e+00 0.00000000e+00 0.00000000e+00\n",
      "  2.85714286e-01 0.00000000e+00 0.00000000e+00 0.00000000e+00\n",
      "  0.00000000e+00]\n",
      " [9.58333333e-01 0.00000000e+00 2.08333333e-02 0.00000000e+00\n",
      "  0.00000000e+00 0.00000000e+00 2.08333333e-02 0.00000000e+00\n",
      "  0.00000000e+00 0.00000000e+00 0.00000000e+00 0.00000000e+00\n",
      "  0.00000000e+00 0.00000000e+00 0.00000000e+00 0.00000000e+00\n",
      "  0.00000000e+00 0.00000000e+00 0.00000000e+00 0.00000000e+00\n",
      "  0.00000000e+00]\n",
      " [0.00000000e+00 0.00000000e+00 0.00000000e+00 0.00000000e+00\n",
      "  0.00000000e+00 0.00000000e+00 0.00000000e+00 0.00000000e+00\n",
      "  0.00000000e+00 0.00000000e+00 0.00000000e+00 0.00000000e+00\n",
      "  0.00000000e+00 0.00000000e+00 0.00000000e+00 0.00000000e+00\n",
      "  0.00000000e+00 0.00000000e+00 0.00000000e+00 1.00000000e+00\n",
      "  0.00000000e+00]\n",
      " [2.50000000e-01 0.00000000e+00 0.00000000e+00 0.00000000e+00\n",
      "  0.00000000e+00 0.00000000e+00 0.00000000e+00 0.00000000e+00\n",
      "  0.00000000e+00 0.00000000e+00 0.00000000e+00 0.00000000e+00\n",
      "  0.00000000e+00 0.00000000e+00 0.00000000e+00 0.00000000e+00\n",
      "  0.00000000e+00 0.00000000e+00 0.00000000e+00 7.50000000e-01\n",
      "  0.00000000e+00]\n",
      " [0.00000000e+00 0.00000000e+00 0.00000000e+00 0.00000000e+00\n",
      "  0.00000000e+00 0.00000000e+00 0.00000000e+00 1.00000000e+00\n",
      "  0.00000000e+00 0.00000000e+00 0.00000000e+00 0.00000000e+00\n",
      "  0.00000000e+00 0.00000000e+00 0.00000000e+00 0.00000000e+00\n",
      "  0.00000000e+00 0.00000000e+00 0.00000000e+00 0.00000000e+00\n",
      "  0.00000000e+00]]\n"
     ]
    }
   ],
   "source": [
    "import os\n",
    "import numpy as np\n",
    "import pandas as pd\n",
    "import pickle\n",
    "import heapq\n",
    "from HMM import *\n",
    "\n",
    "def save_pickle(obj, name):\n",
    "    with open(\"obj/\" + name + \".pkl\", \"wb\") as f:\n",
    "        pickle.dump(obj, f, pickle.HIGHEST_PROTOCOL)\n",
    "\n",
    "def load_pickle(name):\n",
    "    with open(\"obj/\" + name + \".pkl\", \"rb\") as f:\n",
    "        return pickle.load(f)"
   ]
  },
  {
   "cell_type": "markdown",
   "metadata": {},
   "source": [
    "## Part 2\n",
    "This part deals with the estimation of the emission parameters using MLE. Refer to HMM.py for all the functions being referenced.\n",
    "\n",
    "<img src=\"screenshots/p2_1.png\">\n",
    "\n",
    "```calc_emission_pairwise(df, word, tag)```\n",
    "\n",
    "<img src=\"screenshots/p2_2.png\">\n",
    "\n",
    "```calc_emission_UNK_pairwise(df, word, tag, k=0.5)```\n",
    "\n",
    "<img src=\"screenshots/p2_3.png\">\n",
    "Functions referenced can be found in HMM.py. Run the following script:"
   ]
  },
  {
   "cell_type": "code",
   "execution_count": null,
   "metadata": {},
   "outputs": [],
   "source": [
    "datasets = [\"CN\", \"EN\", \"SG\"]"
   ]
  },
  {
   "cell_type": "code",
   "execution_count": null,
   "metadata": {
    "scrolled": true
   },
   "outputs": [],
   "source": [
    "dataset = \"CN\"\n",
    "traindf = read_train_data(dataset)\n",
    "possible_tags = get_tags(traindf)\n",
    "vocab = get_vocab(traindf)\n",
    "vocab.append(\"#UNK#\")\n",
    "# print(possible_tags)\n",
    "# print(vocab)\n",
    "\n",
    "emission_parameters = calc_all_emission_paras(dataset, traindf, possible_tags, vocab)\n",
    "predict_dict = get_predictions_dict(possible_tags, vocab, emission_parameters)\n",
    "\n",
    "dev_in = read_input_data(dataset, vocab)\n",
    "\n",
    "dev_in[\"tag\"] = dev_in[\"unseen\"].map(predict_dict)\n",
    "dev_in[\"tag\"] = dev_in[\"tag\"].fillna(\"\")\n",
    "preddf = dev_in.drop([\"unseen\"], axis=1)\n",
    "\n",
    "preddf.to_csv(dataset + \"/dev.p2.out\", header=None, index=None, sep=\" \", mode=\"w\")\n",
    "print(f'Write output for {dataset} done at \"{dataset}/dev.p2.out\"')\n",
    "\n",
    "# save_pickle(emission_parameters, dataset + \"_emission_paras\")\n",
    "# save_pickle(predict_dict, dataset + \"_pred_dict\")"
   ]
  },
  {
   "cell_type": "code",
   "execution_count": null,
   "metadata": {},
   "outputs": [],
   "source": [
    "dataset = \"EN\"\n",
    "traindf = read_train_data(dataset)\n",
    "possible_tags = get_tags(traindf)\n",
    "vocab = get_vocab(traindf)\n",
    "vocab.append(\"#UNK#\")\n",
    "# print(possible_tags)\n",
    "# print(vocab)\n",
    "\n",
    "emission_parameters = calc_all_emission_paras(dataset, traindf, possible_tags, vocab)\n",
    "predict_dict = get_predictions_dict(possible_tags, vocab, emission_parameters)\n",
    "\n",
    "dev_in = read_input_data(dataset, vocab)\n",
    "\n",
    "dev_in[\"tag\"] = dev_in[\"unseen\"].map(predict_dict)\n",
    "dev_in[\"tag\"] = dev_in[\"tag\"].fillna(\"\")\n",
    "preddf = dev_in.drop([\"unseen\"], axis=1)\n",
    "\n",
    "preddf.to_csv(dataset + \"/dev.p2.out\", header=None, index=None, sep=\" \", mode=\"w\")\n",
    "print(f'Write output for {dataset} done at \"{dataset}/dev.p2.out\"')\n",
    "\n",
    "\n",
    "# save_pickle(emission_parameters, dataset + \"_emission_paras\")\n",
    "# save_pickle(predict_dict, dataset + \"_pred_dict\")"
   ]
  },
  {
   "cell_type": "code",
   "execution_count": null,
   "metadata": {},
   "outputs": [],
   "source": [
    "dataset = \"SG\"\n",
    "traindf = read_train_data(dataset)\n",
    "possible_tags = get_tags(traindf)\n",
    "vocab = get_vocab(traindf)\n",
    "vocab.append(\"#UNK#\")\n",
    "# print(possible_tags)\n",
    "# print(vocab)\n",
    "\n",
    "emission_parameters = calc_all_emission_paras(dataset, traindf, possible_tags, vocab)\n",
    "predict_dict = get_predictions_dict(possible_tags, vocab, emission_parameters)\n",
    "\n",
    "dev_in = read_input_data(dataset, vocab)\n",
    "\n",
    "dev_in[\"tag\"] = dev_in[\"unseen\"].map(predict_dict)\n",
    "dev_in[\"tag\"] = dev_in[\"tag\"].fillna(\"\")\n",
    "preddf = dev_in.drop([\"unseen\"], axis=1)\n",
    "\n",
    "preddf.to_csv(dataset + \"/dev.p2.out\", header=None, index=None, sep=\" \", mode=\"w\")\n",
    "print(f'Write output for {dataset} done at \"{dataset}/dev.p2.out\"')\n",
    "\n",
    "# save_pickle(emission_parameters, dataset + \"_emission_paras\")\n",
    "# save_pickle(predict_dict, dataset + \"_pred_dict\")"
   ]
  },
  {
   "cell_type": "code",
   "execution_count": null,
   "metadata": {},
   "outputs": [],
   "source": [
    "print('CN')\n",
    "!python3 EvalScript/evalResult.py CN/dev.out CN/dev.p2.out\n",
    "\n",
    "print('EN')\n",
    "!python3 EvalScript/evalResult.py EN/dev.out EN/dev.p2.out\n",
    "\n",
    "print('SG')\n",
    "!python3 EvalScript/evalResult.py SG/dev.out SG/dev.p2.out"
   ]
  },
  {
   "cell_type": "markdown",
   "metadata": {},
   "source": [
    "## Part 3\n",
    "This part deals with the estimation of the transmission parameters using MLE. Refer to HMM.py for all the functions being referenced.\n",
    "\n",
    "### Estimate transition parameters\n",
    "\n",
    "<img src=\"screenshots/p3_1.png\">"
   ]
  },
  {
   "cell_type": "code",
   "execution_count": 13,
   "metadata": {},
   "outputs": [],
   "source": [
    "datasets = [\"CN\", \"EN\", \"SG\"]"
   ]
  },
  {
   "cell_type": "code",
   "execution_count": 14,
   "metadata": {},
   "outputs": [
    {
     "name": "stdout",
     "output_type": "stream",
     "text": [
      "-----Estimating transmission parameters for CN-----\n",
      "Obtained list of possible tags from the trng set - 7 tags\n",
      "Obtained list of vocab from the trng set - 16935 words\n",
      "Completed for CN\n",
      "-----Estimating transmission parameters for EN-----\n",
      "Obtained list of possible tags from the trng set - 21 tags\n",
      "Obtained list of vocab from the trng set - 18212 words\n",
      "Completed for EN\n",
      "-----Estimating transmission parameters for SG-----\n",
      "Obtained list of possible tags from the trng set - 7 tags\n",
      "Obtained list of vocab from the trng set - 42809 words\n",
      "Completed for SG\n"
     ]
    }
   ],
   "source": [
    "# datasets = [\"EN\"]\n",
    "for dataset in datasets:\n",
    "    print(f'-----Estimating transmission parameters for {dataset}-----')\n",
    "    traindf = read_train_data(dataset)\n",
    "    possible_tags = get_tags(traindf)\n",
    "    vocab = get_vocab(traindf)\n",
    "\n",
    "    full_tags_list = read_train_file(dataset) # get full list of tags\n",
    "\n",
    "    trans_para = transition_para(full_tags_list, possible_tags)\n",
    "    trans_arr = trans_para.to_numpy()\n",
    "    pi0 = trans_arr[0]\n",
    "    a = np.delete(trans_arr, 0, 0)\n",
    "    a = np.delete(a,len(a[0])-1,1)\n",
    "    print(f'Completed for {dataset}')\n",
    "\n",
    "    save_pickle(trans_para, dataset+'_transmissionparas')\n",
    "    save_pickle(a, dataset+'_a')\n",
    "    save_pickle(pi0, dataset+'_pi0')"
   ]
  },
  {
   "cell_type": "markdown",
   "metadata": {},
   "source": [
    "## Part 3\n",
    "\n",
    "### Viterbi algorithm\n",
    "<img src=\"screenshots/p3_2.png\">"
   ]
  },
  {
   "cell_type": "markdown",
   "metadata": {},
   "source": [
    "### load parameters"
   ]
  },
  {
   "cell_type": "code",
   "execution_count": 2,
   "metadata": {},
   "outputs": [
    {
     "name": "stdout",
     "output_type": "stream",
     "text": [
      "Obtained list of possible tags from the trng set - 21 tags\n",
      "Obtained list of vocab from the trng set - 18212 words\n"
     ]
    }
   ],
   "source": [
    "dataset = 'EN'\n",
    "\n",
    "traindf = read_train_data(dataset)\n",
    "possible_tags = get_tags(traindf)\n",
    "vocab = get_vocab(traindf)\n",
    "vocab.append('#UNK#')\n",
    "\n",
    "datalist = read_train_file(dataset)\n",
    "\n",
    "obs_map = {k: v for v, k in enumerate(vocab)}\n",
    "state_map = {k: v for v, k in enumerate(possible_tags)}\n",
    "\n",
    "pi = load_pickle(dataset+'_pi0')\n",
    "\n",
    "a = load_pickle(dataset+'_a')\n",
    "b = load_pickle(dataset+'_emissionparas')\n",
    "\n",
    "obs = list(range(len(vocab)))"
   ]
  },
  {
   "cell_type": "code",
   "execution_count": 3,
   "metadata": {},
   "outputs": [
    {
     "name": "stdout",
     "output_type": "stream",
     "text": [
      "{'B-NP': 0, 'I-NP': 1, 'B-VP': 2, 'B-ADVP': 3, 'B-ADJP': 4, 'I-ADJP': 5, 'B-PP': 6, 'O': 7, 'B-SBAR': 8, 'I-VP': 9, 'I-ADVP': 10, 'B-PRT': 11, 'I-PP': 12, 'B-CONJP': 13, 'I-CONJP': 14, 'B-INTJ': 15, 'I-INTJ': 16, 'I-SBAR': 17, 'B-UCP': 18, 'I-UCP': 19, 'B-LST': 20}\n"
     ]
    }
   ],
   "source": [
    "#print(obs_map)\n",
    "print(state_map)\n",
    "#print(pi)\n",
    "#print(a)\n",
    "#print(b)\n",
    "#print(obs)"
   ]
  },
  {
   "cell_type": "markdown",
   "metadata": {},
   "source": [
    "## Part 4\n",
    "We need to use the estimated transition and emission parameters to implement an algorithm to find the 3rd best output sequences.\n",
    "\n",
    "This problem to find k-best sequences is conventionally known as List Viterbi Decoding.\n",
    "\n",
    "Refer to HMM.py for the implementation - `kViterbiParallel`\n",
    "\n",
    "In the implementation,\n",
    "- `Heapq` is used as p,riority queue. Every pop gives the smallest heap element for heap sort.\n",
    "- `Rank` is keep track of consistent optimal transitions as the most k optimal path will not deviate much"
   ]
  },
  {
   "cell_type": "markdown",
   "metadata": {},
   "source": [
    "We will be using the parallel LVA (List Viterbi Algorithm). The process is divided into 4 steps.\n",
    "\n",
    "**1.Initialisation**\n",
    "\n",
    "$\\begin{array}{l}\\phi_{t}(i, k)=c_{1}(1, i) \\\\ \\xi_{t}(i, k)=1, \\quad 1 \\leq i \\leq N, \\quad 1 \\leq k \\leq L\\end{array}$\n",
    "\n",
    "\n",
    "**2. Recursion and Termination $(1<t \\leq M)$**\n",
    "\n",
    "$\\phi_{t}(i, k)=\\min _{1 \\leq j \\leq N \\atop 1 \\leq l \\leq L}\\left[\\phi_{t-1}(j, l)+c_{t}(j, i)\\right], \\quad 1 \\leq i \\leq N$\n",
    "\n",
    "where $min^{k}$ denotes the $k^{th}$ smallest value\n",
    "\n",
    "$\\left(j^{*}, l^{*}\\right)=\\underset{1 \\leq j \\leq N}{\\arg \\min }^{(k)}\\left[\\phi_{t-1}(j, l)+c_{t}(j, i)\\right], 1 \\leq i \\leq N$\n",
    "\n",
    "Here $j^{*}$ is the predecessor state for the $k^{th}$ best path into state $i$ and $l^{*}$ is the corresponding ranking\n",
    "\n",
    "$\\\\ \\begin{array}{l}\\xi_{t}(i, k)=j^{*} \\\\ \\gamma_{t}(i, k)=l^{*}\\end{array}$\n",
    "\n",
    "\n",
    "**3. Path Backtracking**\n",
    "\n",
    "The $k^{th}$ best sequence is\n",
    "\n",
    "$\\left(1, j_{1}, j_{2}, \\ldots, j_{M-1}, 1\\right)$\n",
    "\n",
    "where\n",
    "\n",
    "$\\begin{array}{l}j_{t}=\\xi_{t+1}\\left(j_{t+1}, l_{t+1}\\right) \\\\ l_{t}=r_{t+1}\\left(j_{t+1}, l_{t+1}\\right) \\\\ j_{M-1}=\\xi_{M}(1, k)\\end{array}$\n",
    "\n",
    "and\n",
    "\n",
    "$l_{M-1}=r_{M}(1, k)$"
   ]
  },
  {
   "cell_type": "code",
   "execution_count": 4,
   "metadata": {},
   "outputs": [
    {
     "name": "stdout",
     "output_type": "stream",
     "text": [
      "[185, 1110, 246]\n"
     ]
    }
   ],
   "source": [
    "### Part 4 Testing ###\n",
    "number_to_tag_dict = {y:x for x,y in state_map.items()}\n",
    "number_to_word_dict = {y:x for x,y in obs_map.items()}\n",
    "\n",
    "test_coll = ['I','love','you']\n",
    "obs = list(map(lambda x: obs_map.get(x), test_coll))\n",
    "print(obs)"
   ]
  },
  {
   "cell_type": "code",
   "execution_count": 5,
   "metadata": {},
   "outputs": [
    {
     "name": "stdout",
     "output_type": "stream",
     "text": [
      "[0 1 0]\n",
      "['B-NP', 'I-NP', 'B-NP']\n"
     ]
    }
   ],
   "source": [
    "path, delta, phi, max_prob = viterbi2(pi, a, b, obs)\n",
    "print(path)\n",
    "tag_path = list(map(lambda x: number_to_tag_dict.get(x), path))\n",
    "print(tag_path)"
   ]
  },
  {
   "cell_type": "code",
   "execution_count": 6,
   "metadata": {},
   "outputs": [
    {
     "name": "stdout",
     "output_type": "stream",
     "text": [
      "[0, 1, 2, 3, 4, 5, 6, 7, 8, 9, 10]\n",
      "['Municipal', 'bonds', 'are', 'generally', 'a', 'bit', 'safer', 'than', 'corporate', 'in', 'recession']\n"
     ]
    }
   ],
   "source": [
    "obs2 = list(range(0,11))\n",
    "print(obs2)\n",
    "test_coll_2 = list(map(lambda x: number_to_word_dict.get(x), obs2))\n",
    "print(test_coll_2)"
   ]
  },
  {
   "cell_type": "code",
   "execution_count": 7,
   "metadata": {},
   "outputs": [
    {
     "name": "stdout",
     "output_type": "stream",
     "text": [
      "[[0 1 2 3 4 5 5 6 0 6 0]\n",
      " [0 1 2 9 4 5 5 6 0 6 0]\n",
      " [0 1 2 3 4 5 5 8 0 6 0]]\n",
      "['B-NP', 'I-NP', 'B-VP', 'B-ADVP', 'B-ADJP', 'I-ADJP', 'I-ADJP', 'B-SBAR', 'B-NP', 'B-PP', 'B-NP']\n"
     ]
    }
   ],
   "source": [
    "path, delta, phi, max_prob = kViterbiParallel(pi, a, b, obs2, 3)\n",
    "print(path)\n",
    "tag_path = list(map(lambda x: number_to_tag_dict.get(x), path[2]))\n",
    "print(tag_path)"
   ]
  },
  {
   "cell_type": "code",
   "execution_count": null,
   "metadata": {},
   "outputs": [],
   "source": []
  }
 ],
 "metadata": {
  "kernelspec": {
   "display_name": "Python 3",
   "language": "python",
   "name": "python3"
  },
  "language_info": {
   "codemirror_mode": {
    "name": "ipython",
    "version": 3
   },
   "file_extension": ".py",
   "mimetype": "text/x-python",
   "name": "python",
   "nbconvert_exporter": "python",
   "pygments_lexer": "ipython3",
   "version": "3.8.6"
  }
 },
 "nbformat": 4,
 "nbformat_minor": 4
}
